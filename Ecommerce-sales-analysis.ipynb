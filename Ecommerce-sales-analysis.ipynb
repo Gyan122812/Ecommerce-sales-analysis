{
 "cells": [
  {
   "cell_type": "code",
   "execution_count": 1,
   "id": "9a1c260d-a9c9-4d08-b4a0-ec915a53cfe4",
   "metadata": {},
   "outputs": [
    {
     "name": "stdout",
     "output_type": "stream",
     "text": [
      "Hello bhai\n"
     ]
    }
   ],
   "source": [
    "print(\"Hello bhai\")\n"
   ]
  },
  {
   "cell_type": "code",
   "execution_count": 2,
   "id": "127c7f41-6a60-4c9c-aef8-5ebabc1ea97e",
   "metadata": {},
   "outputs": [
    {
     "name": "stdout",
     "output_type": "stream",
     "text": [
      "22.616714477539062 MB\n"
     ]
    }
   ],
   "source": [
    "import os\n",
    "print(os.path.getsize('../data/Online Retail.xlsx') / 1024 / 1024, \"MB\")\n"
   ]
  },
  {
   "cell_type": "code",
   "execution_count": 3,
   "id": "1b56437b-8f73-4ac5-9a6c-0b5004182a99",
   "metadata": {},
   "outputs": [
    {
     "name": "stdout",
     "output_type": "stream",
     "text": [
      "   InvoiceNo StockCode                          Description  Quantity  \\\n",
      "0     536365    85123A   WHITE HANGING HEART T-LIGHT HOLDER         6   \n",
      "1     536365     71053                  WHITE METAL LANTERN         6   \n",
      "2     536365    84406B       CREAM CUPID HEARTS COAT HANGER         8   \n",
      "3     536365    84029G  KNITTED UNION FLAG HOT WATER BOTTLE         6   \n",
      "4     536365    84029E       RED WOOLLY HOTTIE WHITE HEART.         6   \n",
      "5     536365     22752         SET 7 BABUSHKA NESTING BOXES         2   \n",
      "6     536365     21730    GLASS STAR FROSTED T-LIGHT HOLDER         6   \n",
      "7     536366     22633               HAND WARMER UNION JACK         6   \n",
      "8     536366     22632            HAND WARMER RED POLKA DOT         6   \n",
      "9     536367     84879        ASSORTED COLOUR BIRD ORNAMENT        32   \n",
      "\n",
      "          InvoiceDate  UnitPrice  CustomerID         Country  \n",
      "0 2010-12-01 08:26:00       2.55       17850  United Kingdom  \n",
      "1 2010-12-01 08:26:00       3.39       17850  United Kingdom  \n",
      "2 2010-12-01 08:26:00       2.75       17850  United Kingdom  \n",
      "3 2010-12-01 08:26:00       3.39       17850  United Kingdom  \n",
      "4 2010-12-01 08:26:00       3.39       17850  United Kingdom  \n",
      "5 2010-12-01 08:26:00       7.65       17850  United Kingdom  \n",
      "6 2010-12-01 08:26:00       4.25       17850  United Kingdom  \n",
      "7 2010-12-01 08:28:00       1.85       17850  United Kingdom  \n",
      "8 2010-12-01 08:28:00       1.85       17850  United Kingdom  \n",
      "9 2010-12-01 08:34:00       1.69       13047  United Kingdom  \n"
     ]
    }
   ],
   "source": [
    "import pandas as pd\n",
    "df = pd.read_excel('../data/Online Retail.xlsx', nrows=10)\n",
    "print(df)\n"
   ]
  },
  {
   "cell_type": "code",
   "execution_count": 6,
   "id": "0bf59bfd-2075-4ebc-9e7c-869931ce96b2",
   "metadata": {},
   "outputs": [],
   "source": [
    "df = pd.read_excel('../data/Online Retail.xlsx')\n"
   ]
  },
  {
   "cell_type": "code",
   "execution_count": 9,
   "id": "1ad47624-a073-4bfb-9558-1a91222712e5",
   "metadata": {},
   "outputs": [
    {
     "name": "stdout",
     "output_type": "stream",
     "text": [
      "(5000, 8)\n"
     ]
    },
    {
     "data": {
      "text/html": [
       "<div>\n",
       "<style scoped>\n",
       "    .dataframe tbody tr th:only-of-type {\n",
       "        vertical-align: middle;\n",
       "    }\n",
       "\n",
       "    .dataframe tbody tr th {\n",
       "        vertical-align: top;\n",
       "    }\n",
       "\n",
       "    .dataframe thead th {\n",
       "        text-align: right;\n",
       "    }\n",
       "</style>\n",
       "<table border=\"1\" class=\"dataframe\">\n",
       "  <thead>\n",
       "    <tr style=\"text-align: right;\">\n",
       "      <th></th>\n",
       "      <th>InvoiceNo</th>\n",
       "      <th>StockCode</th>\n",
       "      <th>Description</th>\n",
       "      <th>Quantity</th>\n",
       "      <th>InvoiceDate</th>\n",
       "      <th>UnitPrice</th>\n",
       "      <th>CustomerID</th>\n",
       "      <th>Country</th>\n",
       "    </tr>\n",
       "  </thead>\n",
       "  <tbody>\n",
       "    <tr>\n",
       "      <th>0</th>\n",
       "      <td>536365</td>\n",
       "      <td>85123A</td>\n",
       "      <td>WHITE HANGING HEART T-LIGHT HOLDER</td>\n",
       "      <td>6</td>\n",
       "      <td>2010-12-01 08:26:00</td>\n",
       "      <td>2.55</td>\n",
       "      <td>17850.0</td>\n",
       "      <td>United Kingdom</td>\n",
       "    </tr>\n",
       "    <tr>\n",
       "      <th>1</th>\n",
       "      <td>536365</td>\n",
       "      <td>71053</td>\n",
       "      <td>WHITE METAL LANTERN</td>\n",
       "      <td>6</td>\n",
       "      <td>2010-12-01 08:26:00</td>\n",
       "      <td>3.39</td>\n",
       "      <td>17850.0</td>\n",
       "      <td>United Kingdom</td>\n",
       "    </tr>\n",
       "    <tr>\n",
       "      <th>2</th>\n",
       "      <td>536365</td>\n",
       "      <td>84406B</td>\n",
       "      <td>CREAM CUPID HEARTS COAT HANGER</td>\n",
       "      <td>8</td>\n",
       "      <td>2010-12-01 08:26:00</td>\n",
       "      <td>2.75</td>\n",
       "      <td>17850.0</td>\n",
       "      <td>United Kingdom</td>\n",
       "    </tr>\n",
       "    <tr>\n",
       "      <th>3</th>\n",
       "      <td>536365</td>\n",
       "      <td>84029G</td>\n",
       "      <td>KNITTED UNION FLAG HOT WATER BOTTLE</td>\n",
       "      <td>6</td>\n",
       "      <td>2010-12-01 08:26:00</td>\n",
       "      <td>3.39</td>\n",
       "      <td>17850.0</td>\n",
       "      <td>United Kingdom</td>\n",
       "    </tr>\n",
       "    <tr>\n",
       "      <th>4</th>\n",
       "      <td>536365</td>\n",
       "      <td>84029E</td>\n",
       "      <td>RED WOOLLY HOTTIE WHITE HEART.</td>\n",
       "      <td>6</td>\n",
       "      <td>2010-12-01 08:26:00</td>\n",
       "      <td>3.39</td>\n",
       "      <td>17850.0</td>\n",
       "      <td>United Kingdom</td>\n",
       "    </tr>\n",
       "  </tbody>\n",
       "</table>\n",
       "</div>"
      ],
      "text/plain": [
       "  InvoiceNo StockCode                          Description  Quantity  \\\n",
       "0    536365    85123A   WHITE HANGING HEART T-LIGHT HOLDER         6   \n",
       "1    536365     71053                  WHITE METAL LANTERN         6   \n",
       "2    536365    84406B       CREAM CUPID HEARTS COAT HANGER         8   \n",
       "3    536365    84029G  KNITTED UNION FLAG HOT WATER BOTTLE         6   \n",
       "4    536365    84029E       RED WOOLLY HOTTIE WHITE HEART.         6   \n",
       "\n",
       "          InvoiceDate  UnitPrice  CustomerID         Country  \n",
       "0 2010-12-01 08:26:00       2.55     17850.0  United Kingdom  \n",
       "1 2010-12-01 08:26:00       3.39     17850.0  United Kingdom  \n",
       "2 2010-12-01 08:26:00       2.75     17850.0  United Kingdom  \n",
       "3 2010-12-01 08:26:00       3.39     17850.0  United Kingdom  \n",
       "4 2010-12-01 08:26:00       3.39     17850.0  United Kingdom  "
      ]
     },
     "execution_count": 9,
     "metadata": {},
     "output_type": "execute_result"
    }
   ],
   "source": [
    "df = pd.read_excel('../data/Online Retail.xlsx', nrows=5000)\n",
    "print(df.shape)\n",
    "df.head()\n"
   ]
  },
  {
   "cell_type": "code",
   "execution_count": 10,
   "id": "29d7f549-d462-41e8-a96d-5db6ec691c2a",
   "metadata": {},
   "outputs": [
    {
     "name": "stdout",
     "output_type": "stream",
     "text": [
      "<class 'pandas.core.frame.DataFrame'>\n",
      "RangeIndex: 5000 entries, 0 to 4999\n",
      "Data columns (total 8 columns):\n",
      " #   Column       Non-Null Count  Dtype         \n",
      "---  ------       --------------  -----         \n",
      " 0   InvoiceNo    5000 non-null   object        \n",
      " 1   StockCode    5000 non-null   object        \n",
      " 2   Description  4988 non-null   object        \n",
      " 3   Quantity     5000 non-null   int64         \n",
      " 4   InvoiceDate  5000 non-null   datetime64[ns]\n",
      " 5   UnitPrice    5000 non-null   float64       \n",
      " 6   CustomerID   3795 non-null   float64       \n",
      " 7   Country      5000 non-null   object        \n",
      "dtypes: datetime64[ns](1), float64(2), int64(1), object(4)\n",
      "memory usage: 312.6+ KB\n"
     ]
    }
   ],
   "source": [
    "df.info()"
   ]
  },
  {
   "cell_type": "code",
   "execution_count": 11,
   "id": "ad6cec49-eb32-4caf-bd9f-34347b5ddc3d",
   "metadata": {},
   "outputs": [
    {
     "data": {
      "text/html": [
       "<div>\n",
       "<style scoped>\n",
       "    .dataframe tbody tr th:only-of-type {\n",
       "        vertical-align: middle;\n",
       "    }\n",
       "\n",
       "    .dataframe tbody tr th {\n",
       "        vertical-align: top;\n",
       "    }\n",
       "\n",
       "    .dataframe thead th {\n",
       "        text-align: right;\n",
       "    }\n",
       "</style>\n",
       "<table border=\"1\" class=\"dataframe\">\n",
       "  <thead>\n",
       "    <tr style=\"text-align: right;\">\n",
       "      <th></th>\n",
       "      <th>Quantity</th>\n",
       "      <th>InvoiceDate</th>\n",
       "      <th>UnitPrice</th>\n",
       "      <th>CustomerID</th>\n",
       "    </tr>\n",
       "  </thead>\n",
       "  <tbody>\n",
       "    <tr>\n",
       "      <th>count</th>\n",
       "      <td>5000.000000</td>\n",
       "      <td>5000</td>\n",
       "      <td>5000.000000</td>\n",
       "      <td>3795.000000</td>\n",
       "    </tr>\n",
       "    <tr>\n",
       "      <th>mean</th>\n",
       "      <td>9.185800</td>\n",
       "      <td>2010-12-01 22:54:10.812000</td>\n",
       "      <td>3.792314</td>\n",
       "      <td>15906.281950</td>\n",
       "    </tr>\n",
       "    <tr>\n",
       "      <th>min</th>\n",
       "      <td>-9360.000000</td>\n",
       "      <td>2010-12-01 08:26:00</td>\n",
       "      <td>0.000000</td>\n",
       "      <td>12431.000000</td>\n",
       "    </tr>\n",
       "    <tr>\n",
       "      <th>25%</th>\n",
       "      <td>1.000000</td>\n",
       "      <td>2010-12-01 13:24:00</td>\n",
       "      <td>1.250000</td>\n",
       "      <td>14606.000000</td>\n",
       "    </tr>\n",
       "    <tr>\n",
       "      <th>50%</th>\n",
       "      <td>3.000000</td>\n",
       "      <td>2010-12-01 17:06:00</td>\n",
       "      <td>2.510000</td>\n",
       "      <td>15862.000000</td>\n",
       "    </tr>\n",
       "    <tr>\n",
       "      <th>75%</th>\n",
       "      <td>10.000000</td>\n",
       "      <td>2010-12-02 12:10:00</td>\n",
       "      <td>4.210000</td>\n",
       "      <td>17841.000000</td>\n",
       "    </tr>\n",
       "    <tr>\n",
       "      <th>max</th>\n",
       "      <td>2880.000000</td>\n",
       "      <td>2010-12-02 18:08:00</td>\n",
       "      <td>607.490000</td>\n",
       "      <td>18239.000000</td>\n",
       "    </tr>\n",
       "    <tr>\n",
       "      <th>std</th>\n",
       "      <td>144.940788</td>\n",
       "      <td>NaN</td>\n",
       "      <td>13.211720</td>\n",
       "      <td>1732.068892</td>\n",
       "    </tr>\n",
       "  </tbody>\n",
       "</table>\n",
       "</div>"
      ],
      "text/plain": [
       "          Quantity                 InvoiceDate    UnitPrice    CustomerID\n",
       "count  5000.000000                        5000  5000.000000   3795.000000\n",
       "mean      9.185800  2010-12-01 22:54:10.812000     3.792314  15906.281950\n",
       "min   -9360.000000         2010-12-01 08:26:00     0.000000  12431.000000\n",
       "25%       1.000000         2010-12-01 13:24:00     1.250000  14606.000000\n",
       "50%       3.000000         2010-12-01 17:06:00     2.510000  15862.000000\n",
       "75%      10.000000         2010-12-02 12:10:00     4.210000  17841.000000\n",
       "max    2880.000000         2010-12-02 18:08:00   607.490000  18239.000000\n",
       "std     144.940788                         NaN    13.211720   1732.068892"
      ]
     },
     "execution_count": 11,
     "metadata": {},
     "output_type": "execute_result"
    }
   ],
   "source": [
    "df.describe()"
   ]
  },
  {
   "cell_type": "code",
   "execution_count": 12,
   "id": "c534f7fb-4c6e-47dc-a76c-427d48b527c9",
   "metadata": {},
   "outputs": [
    {
     "data": {
      "text/plain": [
       "InvoiceNo         0\n",
       "StockCode         0\n",
       "Description      12\n",
       "Quantity          0\n",
       "InvoiceDate       0\n",
       "UnitPrice         0\n",
       "CustomerID     1205\n",
       "Country           0\n",
       "dtype: int64"
      ]
     },
     "execution_count": 12,
     "metadata": {},
     "output_type": "execute_result"
    }
   ],
   "source": [
    "df.isnull().sum()"
   ]
  },
  {
   "cell_type": "code",
   "execution_count": 16,
   "id": "cbf5b2d5-e51e-454c-99e7-5738a2cae259",
   "metadata": {},
   "outputs": [
    {
     "name": "stdout",
     "output_type": "stream",
     "text": [
      "Shape after removing missing descriptions: (4988, 8)\n"
     ]
    }
   ],
   "source": [
    "df_clean = df.dropna(subset=['Description'])\n",
    "print(\"Shape after removing missing descriptions:\", df_clean.shape)\n"
   ]
  },
  {
   "cell_type": "code",
   "execution_count": 17,
   "id": "82466226-65e5-4158-b417-fa0b8f4181cd",
   "metadata": {},
   "outputs": [
    {
     "data": {
      "text/plain": [
       "InvoiceNo         0\n",
       "StockCode         0\n",
       "Description       0\n",
       "Quantity          0\n",
       "InvoiceDate       0\n",
       "UnitPrice         0\n",
       "CustomerID     1193\n",
       "Country           0\n",
       "dtype: int64"
      ]
     },
     "execution_count": 17,
     "metadata": {},
     "output_type": "execute_result"
    }
   ],
   "source": [
    "df_clean.isnull().sum()"
   ]
  },
  {
   "cell_type": "code",
   "execution_count": 18,
   "id": "69439086-28a4-4859-a109-21883f5dd2be",
   "metadata": {},
   "outputs": [
    {
     "name": "stdout",
     "output_type": "stream",
     "text": [
      "Total revenue in first 5000 rows: 102189.23999999999\n"
     ]
    },
    {
     "name": "stderr",
     "output_type": "stream",
     "text": [
      "C:\\Users\\A5\\AppData\\Local\\Temp\\ipykernel_29520\\4206721559.py:1: SettingWithCopyWarning: \n",
      "A value is trying to be set on a copy of a slice from a DataFrame.\n",
      "Try using .loc[row_indexer,col_indexer] = value instead\n",
      "\n",
      "See the caveats in the documentation: https://pandas.pydata.org/pandas-docs/stable/user_guide/indexing.html#returning-a-view-versus-a-copy\n",
      "  df_clean['TotalPrice'] = df_clean['Quantity'] * df_clean['UnitPrice']\n"
     ]
    }
   ],
   "source": [
    "df_clean['TotalPrice'] = df_clean['Quantity'] * df_clean['UnitPrice']\n",
    "print(\"Total revenue in first 5000 rows:\", df_clean['TotalPrice'].sum())"
   ]
  },
  {
   "cell_type": "code",
   "execution_count": 19,
   "id": "32614b86-12b1-4d67-b3db-9f44e852bfcf",
   "metadata": {},
   "outputs": [],
   "source": [
    "df_clean.loc[:, 'TotalPrice'] = df_clean['Quantity'] * df_clean['UnitPrice']\n"
   ]
  },
  {
   "cell_type": "code",
   "execution_count": 20,
   "id": "cae01f3d-7d72-47e9-b3bb-8566e55892ab",
   "metadata": {},
   "outputs": [
    {
     "name": "stdout",
     "output_type": "stream",
     "text": [
      "Description\n",
      "WHITE HANGING HEART T-LIGHT HOLDER     35\n",
      "HAND WARMER UNION JACK                 34\n",
      "RED WOOLLY HOTTIE WHITE HEART.         30\n",
      "HAND WARMER SCOTTY DOG DESIGN          28\n",
      "JAM MAKING SET PRINTED                 27\n",
      "SET 7 BABUSHKA NESTING BOXES           26\n",
      "KNITTED UNION FLAG HOT WATER BOTTLE    24\n",
      "HAND WARMER OWL DESIGN                 24\n",
      "HAND WARMER BIRD DESIGN                23\n",
      "HAND WARMER RED RETROSPOT              22\n",
      "Name: count, dtype: int64\n"
     ]
    }
   ],
   "source": [
    "top_products = df_clean['Description'].value_counts().head(10)\n",
    "print(top_products)"
   ]
  },
  {
   "cell_type": "code",
   "execution_count": 21,
   "id": "19c83064-cb84-45b2-823b-91fadc7966b2",
   "metadata": {},
   "outputs": [
    {
     "name": "stdout",
     "output_type": "stream",
     "text": [
      "Country\n",
      "United Kingdom    4825\n",
      "Norway              73\n",
      "Germany             30\n",
      "EIRE                24\n",
      "France              20\n",
      "Name: count, dtype: int64\n"
     ]
    }
   ],
   "source": [
    "top_countries = df_clean['Country'].value_counts().head(5)\n",
    "print(top_countries)"
   ]
  },
  {
   "cell_type": "code",
   "execution_count": 22,
   "id": "d320fca8-5434-4243-8ec1-25f113f9e83f",
   "metadata": {},
   "outputs": [
    {
     "name": "stdout",
     "output_type": "stream",
     "text": [
      "Unique customers: 197\n"
     ]
    }
   ],
   "source": [
    "print(\"Unique customers:\", df_clean['CustomerID'].nunique())"
   ]
  },
  {
   "cell_type": "markdown",
   "id": "370413f6-fcf8-4fcc-b449-e9e96e7e1a40",
   "metadata": {},
   "source": [
    "# 📋 E-commerce Sales Analysis — Project Overview\n",
    "\n",
    "**In this project, we analyze sales data from an online retail store to:**\n",
    "\n",
    "1. Understand overall revenue\n",
    "2. Find top selling products\n",
    "3. Identify best customer segments\n",
    "4. Explore which countries contribute most to sales\n",
    "\n",
    "# 📦 Step 1: Load the data\n",
    "\n",
    "**Loaded first 5000 rows from Online Retail.xlsx using pandas.**\n",
    "\n",
    "\n",
    "# 🔍 Step 2: Data overview\n",
    "\n",
    "Used:\n",
    "df.info()\n",
    "df.describe()\n",
    "df.isnull().sum()\n",
    "\n",
    "**To check:**\n",
    "\n",
    "1. Number of rows & columns\n",
    "2. Data types\n",
    "3. Missing values\n",
    "\n",
    "\n",
    "# 🧹 Step 3: Data cleaning\n",
    "\n",
    "1. Dropped rows with missing Description\n",
    "2. After cleaning: ~4988 rows left\n",
    "3. Still ~1193 rows have missing CustomerID (we keep them for order-level analysis)\n",
    "\n",
    "\n",
    "# 💰 Step 4: Add total price\n",
    "\n",
    "**Added column:**\n",
    "\n",
    "df_clean['TotalPrice'] = df_clean['Quantity'] * df_clean['UnitPrice']\n",
    "\n",
    "**Then calculated:**\n",
    "\n",
    "df_clean['TotalPrice'].sum()\n",
    "\n",
    "**Total revenue in first 5000 rows: ~102,189**\n",
    "\n",
    "\n",
    "# 🏆 Step 5: Top selling products\n",
    "\n",
    "**Lists the 10 most frequently sold products.**\n",
    "\n",
    "df_clean['Description'].value_counts().head(10)\n",
    "\n",
    "\n",
    "\n",
    "# 🌍 Step 6: Top countries\n",
    "\n",
    "**Shows countries with the most orders.**\n",
    "\n",
    "df_clean['Country'].value_counts().head(5)\n",
    "\n",
    "\n",
    "# 👥 Step 7: Unique customers\n",
    "\n",
    "**Counts unique customers in this sample.**\n",
    "\n",
    "df_clean['CustomerID'].nunique()\n",
    "\n",
    "\n",
    "\n",
    "# ✅ Conclusion\n",
    "\n",
    "**We now have:**\n",
    "\n",
    "1. Total revenue\n",
    "2. Top products\n",
    "3. Top countries\n",
    "4. Number of unique customers"
   ]
  },
  {
   "cell_type": "code",
   "execution_count": null,
   "id": "d5095bb3-3450-43eb-98fe-133853225305",
   "metadata": {},
   "outputs": [],
   "source": []
  }
 ],
 "metadata": {
  "kernelspec": {
   "display_name": "Python 3 (ipykernel)",
   "language": "python",
   "name": "python3"
  },
  "language_info": {
   "codemirror_mode": {
    "name": "ipython",
    "version": 3
   },
   "file_extension": ".py",
   "mimetype": "text/x-python",
   "name": "python",
   "nbconvert_exporter": "python",
   "pygments_lexer": "ipython3",
   "version": "3.13.5"
  }
 },
 "nbformat": 4,
 "nbformat_minor": 5
}
